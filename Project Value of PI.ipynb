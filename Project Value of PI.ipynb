{
 "cells": [
  {
   "cell_type": "markdown",
   "metadata": {},
   "source": [
    "**Find PI to the Nth Digit** - Enter a number and have the program generate &pi; (pi) up to that many decimal places. Keep a limit to how far the program will go."
   ]
  },
  {
   "cell_type": "markdown",
   "metadata": {},
   "source": [
    "The current darling of the π world is the Chudnovsky algorithm which is similar to the arctan formula (Machin formula) but it converges much quicker. It is also rather complicated. The formula itself is derived from one by Ramanujan who's work was extraordinary in the extreme. Here is Chudnovsky's formula for π as it is usually stated:\n",
    "\n",
    "\\begin{eqnarray*}\n",
    "\\frac{1}{\\pi} = 12 \\sum^\\infty_{k=0} \\frac{(-1)^k (6k)! (13591409 + 545140134k)}{(3k)!(k!)^3 640320^{3k + 3/2}}\n",
    "\\end{eqnarray*}\n",
    "\n",
    "The following equation can be simplified to :\n",
    "<br><br>\n",
    "\\begin{eqnarray*}\n",
    "\\frac{1}{\\pi} &=& 12 \\sum^\\infty_{k=0} \\frac{(-1)^k (6k)! (13591409 + 545140134k)}{(3k)!(k!)^3 640320^{3k + 3/2}} \\\\\n",
    "              &=& \\frac{12}{640320 \\sqrt{640320}} \\sum^\\infty_{k=0} \\frac{(-1)^k (6k)! (13591409 + 545140134k)}{(3k)!(k!)^3 640320^{3k}} \\\\\n",
    "              &=& \\frac{1}{426880 \\sqrt{10005}} \\sum^\\infty_{k=0} \\frac{(-1)^k (6k)! (13591409 + 545140134k)}{(3k)!(k!)^3 640320^{3k}} \\\\\n",
    "\\end{eqnarray*}\n"
   ]
  },
  {
   "cell_type": "code",
   "execution_count": 1,
   "metadata": {},
   "outputs": [],
   "source": [
    "# Importing necessary liraries\n",
    "import math, sys\n",
    "from decimal import *"
   ]
  },
  {
   "cell_type": "code",
   "execution_count": 2,
   "metadata": {},
   "outputs": [],
   "source": [
    "# Setting the recursion limit to get necessary level of accuracy\n",
    "sys.setrecursionlimit(100000)\n",
    "getcontext().rounding = ROUND_FLOOR"
   ]
  },
  {
   "cell_type": "code",
   "execution_count": 3,
   "metadata": {},
   "outputs": [],
   "source": [
    "# Function to find the factorial of a number\n",
    "def factorial(x):\n",
    "    \n",
    "    if x < 2:\n",
    "        return 1\n",
    "    \n",
    "    return (x * factorial(x - 1))"
   ]
  },
  {
   "cell_type": "code",
   "execution_count": 4,
   "metadata": {},
   "outputs": [],
   "source": [
    "# Function to calculate the sum of the series in the formula\n",
    "def get_series_sum(k):\n",
    "    \n",
    "    summation = 0\n",
    "    getcontext().prec = k+1\n",
    "    \n",
    "    for i in range(k+1):\n",
    "        sign = math.pow(-1,i)\n",
    "        numerator = sign * (math.pow(-1,i)) * factorial(6*i) * (13591409 + (545140134*i))\n",
    "        denominator = factorial(3*i) * math.pow(factorial(i),3) * math.pow(640320,(3*i))\n",
    "        summation += numerator / denominator\n",
    "        \n",
    "    return Decimal(summation)"
   ]
  },
  {
   "cell_type": "code",
   "execution_count": 5,
   "metadata": {},
   "outputs": [],
   "source": [
    "# Function to calculate the value of Pi\n",
    "def get_PI_value(k):\n",
    "    \n",
    "    numerator = 426880 * Decimal(math.sqrt(10005))\n",
    "    my_pi = Decimal(numerator) / (get_series_sum(k))\n",
    "    \n",
    "    return Decimal(my_pi)"
   ]
  },
  {
   "cell_type": "code",
   "execution_count": null,
   "metadata": {},
   "outputs": [],
   "source": [
    "while True:\n",
    "    try:\n",
    "        prc = int(input(\"Enter the decimal precision : \"))\n",
    "        if prc > 17:\n",
    "            raise OverflowError\n",
    "        print(get_PI_value(prc))\n",
    "    except TypeError:\n",
    "        print(\"Please enter proper precision!!\")\n",
    "    except RecursionError:\n",
    "        print(\"Recursion limit reached!!\")\n",
    "    except ValueError:\n",
    "        print(\"Some value error occurred!!\")\n",
    "    except ZeroDivisionError:\n",
    "        print(\"Precision cannot be zero!!\")\n",
    "    except OverflowError:\n",
    "        print(\"System can generate precision only upto 17 places of decimal!!\")\n",
    "    except:\n",
    "        print(\"Some error occurred!!\")\n",
    "    else:\n",
    "        repeat = input(\"Do you want to continue? (Y/N) : \")\n",
    "        if repeat not in 'Yy':\n",
    "            print(\"Thank you for using PI Calculator!\")\n",
    "            break"
   ]
  }
 ],
 "metadata": {
  "kernelspec": {
   "display_name": "Python 3",
   "language": "python",
   "name": "python3"
  },
  "language_info": {
   "codemirror_mode": {
    "name": "ipython",
    "version": 3
   },
   "file_extension": ".py",
   "mimetype": "text/x-python",
   "name": "python",
   "nbconvert_exporter": "python",
   "pygments_lexer": "ipython3",
   "version": "3.7.7"
  }
 },
 "nbformat": 4,
 "nbformat_minor": 4
}
